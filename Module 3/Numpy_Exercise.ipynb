{
 "cells": [
  {
   "cell_type": "markdown",
   "metadata": {},
   "source": [
    "**NumPy Lab Assignment**"
   ]
  },
  {
   "cell_type": "markdown",
   "metadata": {},
   "source": [
    "**Exercise 1: Cast a python list to a numpy array**\n"
   ]
  },
  {
   "cell_type": "code",
   "execution_count": 45,
   "metadata": {},
   "outputs": [
    {
     "name": "stdout",
     "output_type": "stream",
     "text": [
      "['a', 'b', 'c']\n",
      "This is done by John Callahan\n"
     ]
    }
   ],
   "source": [
    "#import numpy\n",
    "import numpy as np\n",
    "\n",
    "#create a list\n",
    "jc_list = ['a','b','c'] \n",
    "\n",
    "#display the list\n",
    "print (jc_list)\n",
    "    \n",
    "print (\"This is done by John Callahan\")"
   ]
  },
  {
   "cell_type": "code",
   "execution_count": 49,
   "metadata": {},
   "outputs": [
    {
     "name": "stdout",
     "output_type": "stream",
     "text": [
      "['a' 'b' 'c']\n",
      "This is done by John Callahan\n"
     ]
    }
   ],
   "source": [
    "#cast that list as an array\n",
    "print (np.array(jc_list))\n",
    "#we get back an array as the container for that list object\n",
    "# note this is one dimensional array\n",
    "\n",
    "print (\"This is done by John Callahan\")"
   ]
  },
  {
   "cell_type": "code",
   "execution_count": 48,
   "metadata": {},
   "outputs": [
    {
     "name": "stdout",
     "output_type": "stream",
     "text": [
      "['a' 'b' 'c']\n",
      "This is done by John Callahan\n"
     ]
    }
   ],
   "source": [
    "#  assign this to an array\n",
    "arr = np.array(jc_list) \n",
    "# display arr\n",
    "print (arr)\n",
    "\n",
    "print (\"This is done by John Callahan\")"
   ]
  },
  {
   "cell_type": "markdown",
   "metadata": {},
   "source": [
    "**Exercise 2: Cast a list of lists to a two dimensional numpy arrary**"
   ]
  },
  {
   "cell_type": "code",
   "execution_count": 51,
   "metadata": {},
   "outputs": [
    {
     "name": "stdout",
     "output_type": "stream",
     "text": [
      "[[10, 20, 30], [41, 52, 62], [71, 18, 19], [100, 200, 230]]\n",
      "This is done by John Callahan\n"
     ]
    }
   ],
   "source": [
    "#mat is a list of four lists \n",
    "mat1=[[10,20,30], [41,52,62], [71,18,19],[100,200,230]]\n",
    "\n",
    "# let us display it\n",
    "print (mat1)\n",
    "\n",
    "print (\"This is done by John Callahan\")"
   ]
  },
  {
   "cell_type": "code",
   "execution_count": 52,
   "metadata": {},
   "outputs": [
    {
     "name": "stdout",
     "output_type": "stream",
     "text": [
      "[[ 10  20  30]\n",
      " [ 41  52  62]\n",
      " [ 71  18  19]\n",
      " [100 200 230]]\n",
      "This is done by John Callahan\n"
     ]
    }
   ],
   "source": [
    "#let us cast this to an array\n",
    "print (np.array(mat1)) \n",
    "\n",
    "# I will get back two dimensional array. The two sets of brackets and the way it is displayed indicates\n",
    "# that it is a two dimensional array\n",
    "\n",
    "print (\"This is done by John Callahan\")"
   ]
  },
  {
   "cell_type": "markdown",
   "metadata": {},
   "source": [
    "**Exercise 3: Using NumPy generation methods arrange to create arrays**"
   ]
  },
  {
   "cell_type": "code",
   "execution_count": 53,
   "metadata": {},
   "outputs": [
    {
     "name": "stdout",
     "output_type": "stream",
     "text": [
      "[ 0  1  2  3  4  5  6  7  8  9 10 11 12 13 14 15]\n",
      "This is done by John Callahan\n"
     ]
    }
   ],
   "source": [
    "#use arrange method to create the following numpy array [0,1,2,3,4,5,6,7,8,9,10,11,12,13,14,15]\n",
    "print (np.arange (0,16))\n",
    "\n",
    "print (\"This is done by John Callahan\")"
   ]
  },
  {
   "cell_type": "code",
   "execution_count": 54,
   "metadata": {},
   "outputs": [
    {
     "name": "stdout",
     "output_type": "stream",
     "text": [
      "This is done by John Callahan\n"
     ]
    }
   ],
   "source": [
    "#import numpy as np\n",
    "import numpy as np\n",
    "\n",
    "print (\"This is done by John Callahan\")"
   ]
  },
  {
   "cell_type": "code",
   "execution_count": 55,
   "metadata": {},
   "outputs": [
    {
     "name": "stdout",
     "output_type": "stream",
     "text": [
      "[ 0  4  8 12 16 20 24]\n",
      "This is done by John Callahan\n"
     ]
    }
   ],
   "source": [
    "#np.arrange using start, stop, and step arguments to create the following numpy array [0,4,8,12,16,20,24]\n",
    "\n",
    "print (np.arange (0,25,4))\n",
    "\n",
    "print (\"This is done by John Callahan\")"
   ]
  },
  {
   "cell_type": "markdown",
   "metadata": {},
   "source": [
    "**Exercise 4:**"
   ]
  },
  {
   "cell_type": "code",
   "execution_count": 56,
   "metadata": {},
   "outputs": [
    {
     "name": "stdout",
     "output_type": "stream",
     "text": [
      "[[0. 0. 0. 0.]\n",
      " [0. 0. 0. 0.]\n",
      " [0. 0. 0. 0.]\n",
      " [0. 0. 0. 0.]]\n",
      "This is done by John Callahan\n"
     ]
    }
   ],
   "source": [
    "#create the two dimensional 4 x 4 numpy array of zeros\n",
    "\n",
    "print (np.zeros((4,4)))\n",
    "\n",
    "print (\"This is done by John Callahan\")"
   ]
  },
  {
   "cell_type": "code",
   "execution_count": 57,
   "metadata": {},
   "outputs": [
    {
     "name": "stdout",
     "output_type": "stream",
     "text": [
      "[[1. 1. 1. 1. 1.]\n",
      " [1. 1. 1. 1. 1.]\n",
      " [1. 1. 1. 1. 1.]\n",
      " [1. 1. 1. 1. 1.]\n",
      " [1. 1. 1. 1. 1.]]\n",
      "This is done by John Callahan\n"
     ]
    }
   ],
   "source": [
    "#create the two dimensional 5 x 5 numpy array of ones\n",
    "\n",
    "print (np.ones ((5,5)))\n",
    "\n",
    "print (\"This is done by John Callahan\")"
   ]
  },
  {
   "cell_type": "code",
   "execution_count": 58,
   "metadata": {},
   "outputs": [
    {
     "name": "stdout",
     "output_type": "stream",
     "text": [
      "[[1. 0. 0. 0. 0. 0.]\n",
      " [0. 1. 0. 0. 0. 0.]\n",
      " [0. 0. 1. 0. 0. 0.]\n",
      " [0. 0. 0. 1. 0. 0.]\n",
      " [0. 0. 0. 0. 1. 0.]\n",
      " [0. 0. 0. 0. 0. 1.]]\n",
      "This is done by John Callahan\n"
     ]
    }
   ],
   "source": [
    "#create a two dimensianal identity matrix of size 6 x6\n",
    "\n",
    "print (np.eye(6))\n",
    "\n",
    "print (\"This is done by John Callahan\")"
   ]
  },
  {
   "cell_type": "code",
   "execution_count": 7,
   "metadata": {},
   "outputs": [
    {
     "name": "stdout",
     "output_type": "stream",
     "text": [
      "[ 0  1  2  3  4  5  6  7  8  9 10 11 12 13 14 15 16 17 18 19]\n",
      "This is done by John Callahan\n"
     ]
    }
   ],
   "source": [
    "#Create numpy array from 0 to 19 elements with a length of 20\n",
    "arr=np.arange(20)\n",
    "\n",
    "#display arr\n",
    "print (arr)\n",
    "\n",
    "print (\"This is done by John Callahan\")"
   ]
  },
  {
   "cell_type": "markdown",
   "metadata": {},
   "source": [
    "**Exericse 5*"
   ]
  },
  {
   "cell_type": "code",
   "execution_count": 59,
   "metadata": {},
   "outputs": [
    {
     "name": "stdout",
     "output_type": "stream",
     "text": [
      "70\n",
      "This is done by John Callahan\n"
     ]
    }
   ],
   "source": [
    "#consider the following numpy array\n",
    "mylist = [[10, 21, 32, 40],[3, 4, 5, 6], [50, 6, 70, 8]]\n",
    "#cast it to an array arr2\n",
    "\n",
    "arr2 = np.array(mylist)\n",
    "    \n",
    "#find max\n",
    "\n",
    "print (arr2.max())\n",
    "\n",
    "print (\"This is done by John Callahan\")"
   ]
  },
  {
   "cell_type": "code",
   "execution_count": 60,
   "metadata": {},
   "outputs": [
    {
     "name": "stdout",
     "output_type": "stream",
     "text": [
      "3\n",
      "This is done by John Callahan\n"
     ]
    }
   ],
   "source": [
    "#find min\n",
    "\n",
    "print (arr2.min())\n",
    "\n",
    "print (\"This is done by John Callahan\")"
   ]
  },
  {
   "cell_type": "code",
   "execution_count": 61,
   "metadata": {},
   "outputs": [
    {
     "name": "stdout",
     "output_type": "stream",
     "text": [
      "4\n",
      "This is done by John Callahan\n"
     ]
    }
   ],
   "source": [
    "#Find the location of the min value \n",
    "\n",
    "print (arr2.argmin())\n",
    "\n",
    "print (\"This is done by John Callahan\")"
   ]
  },
  {
   "cell_type": "markdown",
   "metadata": {},
   "source": [
    "**Exercise 6-NumPy Scalar Operations**"
   ]
  },
  {
   "cell_type": "code",
   "execution_count": 15,
   "metadata": {},
   "outputs": [
    {
     "name": "stdout",
     "output_type": "stream",
     "text": [
      "This is done by John Callahan\n"
     ]
    }
   ],
   "source": [
    "#import numpy as np\n",
    "import numpy as np\n",
    "\n",
    "print (\"This is done by John Callahan\")"
   ]
  },
  {
   "cell_type": "code",
   "execution_count": 16,
   "metadata": {},
   "outputs": [
    {
     "name": "stdout",
     "output_type": "stream",
     "text": [
      "This is done by John Callahan\n"
     ]
    }
   ],
   "source": [
    "#to hide warnings from jupyter notebook\n",
    "\n",
    "import warnings;\n",
    "warnings.simplefilter('ignore')\n",
    "\n",
    "print (\"This is done by John Callahan\")"
   ]
  },
  {
   "cell_type": "code",
   "execution_count": 63,
   "metadata": {},
   "outputs": [
    {
     "name": "stdout",
     "output_type": "stream",
     "text": [
      "This is done by John Callahan\n"
     ]
    }
   ],
   "source": [
    "#consider the following numpy array\n",
    "list2 = [[11, 21, 3, 4],[3, 41, 5, 6], [51, 6, 71, 8]]\n",
    "\n",
    "#cast it to a numpy array arr2\n",
    "\n",
    "arr2 = np.array(list2)\n",
    "\n",
    "print (\"This is done by John Callahan\")"
   ]
  },
  {
   "cell_type": "code",
   "execution_count": 64,
   "metadata": {},
   "outputs": [
    {
     "name": "stdout",
     "output_type": "stream",
     "text": [
      "[[ 66 126  18  24]\n",
      " [ 18 246  30  36]\n",
      " [306  36 426  48]]\n",
      "This is done by John Callahan\n"
     ]
    }
   ],
   "source": [
    "#multiply each element by 6\n",
    "\n",
    "print (arr2 * 6)\n",
    "\n",
    "print (\"This is done by John Callahan\")"
   ]
  },
  {
   "cell_type": "code",
   "execution_count": 65,
   "metadata": {},
   "outputs": [
    {
     "name": "stdout",
     "output_type": "stream",
     "text": [
      "[[   14641   194481       81      256]\n",
      " [      81  2825761      625     1296]\n",
      " [ 6765201     1296 25411681     4096]]\n",
      "This is done by John Callahan\n"
     ]
    }
   ],
   "source": [
    "#raise every element to the power 4\n",
    " \n",
    "print (arr2 **4)\n",
    "\n",
    "print (\"This is done by John Callahan\")"
   ]
  },
  {
   "cell_type": "markdown",
   "metadata": {},
   "source": [
    "**Exercise 6 descriptive statistics**"
   ]
  },
  {
   "cell_type": "code",
   "execution_count": 66,
   "metadata": {},
   "outputs": [
    {
     "name": "stdout",
     "output_type": "stream",
     "text": [
      "19.166666666666668\n",
      "This is done by John Callahan\n"
     ]
    }
   ],
   "source": [
    "# get the average of numbers in a numpy array arr2\n",
    "\n",
    "print (np.mean(arr2))\n",
    "\n",
    "print (\"This is done by John Callahan\")"
   ]
  },
  {
   "cell_type": "code",
   "execution_count": 44,
   "metadata": {},
   "outputs": [
    {
     "name": "stdout",
     "output_type": "stream",
     "text": [
      "7.0\n",
      "This is done by John Callahan\n"
     ]
    }
   ],
   "source": [
    "# get the median of numbers in a numpy array aar2\n",
    "\n",
    "print (np.median(arr2))\n",
    "\n",
    "print (\"This is done by John Callahan\")"
   ]
  },
  {
   "cell_type": "markdown",
   "metadata": {},
   "source": [
    "- Let us create another numpy array that has elements repeated more than once\n",
    "- arr3=np.append([10, 20, 30], [[4, 5, 6], [40, 40, 60]])"
   ]
  },
  {
   "cell_type": "code",
   "execution_count": 40,
   "metadata": {},
   "outputs": [
    {
     "name": "stdout",
     "output_type": "stream",
     "text": [
      "ModeResult(mode=40, count=2)\n",
      "This is done by John Callahan\n"
     ]
    }
   ],
   "source": [
    "#create the array mentioned above\n",
    " \n",
    "arr3=np.append([10, 20, 30], [[4, 5, 6], [40, 40, 60]])\n",
    "\n",
    "#import the required library\n",
    "\n",
    "from scipy import stats\n",
    "\n",
    "#compute the mode for arr3\n",
    "#get the mode of number in a numpy array\n",
    "\n",
    "\n",
    "# get the mode of arr3\n",
    "jcmode=stats.mode(arr3)\n",
    "\n",
    "#print the mode\n",
    "\n",
    "print (jcmode)\n",
    "\n",
    "print (\"This is done by John Callahan\")"
   ]
  },
  {
   "cell_type": "markdown",
   "metadata": {},
   "source": [
    "##### **Exercise 7**\n",
    "- Get the min max mean vairance skewnees and kurtosis for the following numpy array\n",
    "- b= np. arrange (15)"
   ]
  },
  {
   "cell_type": "code",
   "execution_count": 67,
   "metadata": {},
   "outputs": [
    {
     "name": "stdout",
     "output_type": "stream",
     "text": [
      "DescribeResult(nobs=15, minmax=(0, 14), mean=7.0, variance=20.0, skewness=0.0, kurtosis=-1.210714285714286)\n",
      "This is done by John Callahan\n"
     ]
    }
   ],
   "source": [
    "#create a numpy array using arange\n",
    "\n",
    "b = np.arange(15)\n",
    "\n",
    "#import required library\n",
    "\n",
    "from scipy import stats\n",
    "\n",
    "#Get all the required values in one statment\n",
    "\n",
    "print (stats.describe(b))\n",
    "\n",
    "print (\"This is done by John Callahan\")"
   ]
  },
  {
   "cell_type": "markdown",
   "metadata": {},
   "source": [
    "**Exercise 8: Slicing Two Dimensional Array ---Matrix**\n",
    " - Consider the following two dimensional array\n",
    " - arr4 = np.array([[35,20,15],[40,115,25],[15,20,75],[30,10,35]])"
   ]
  },
  {
   "cell_type": "code",
   "execution_count": 32,
   "metadata": {},
   "outputs": [
    {
     "name": "stdout",
     "output_type": "stream",
     "text": [
      "[[ 35  20  15]\n",
      " [ 40 115  25]\n",
      " [ 15  20  75]\n",
      " [ 30  10  35]]\n",
      "This is done by John Callahan\n"
     ]
    }
   ],
   "source": [
    "#create the array arr4 mentioned above\n",
    "\n",
    "arr4 = np.array([[35,20,15],[40,115,25],[15,20,75],[30,10,35]])\n",
    "\n",
    "#print it\n",
    "\n",
    "print (arr4)\n",
    "\n",
    "print (\"This is done by John Callahan\")"
   ]
  },
  {
   "cell_type": "code",
   "execution_count": 69,
   "metadata": {},
   "outputs": [
    {
     "name": "stdout",
     "output_type": "stream",
     "text": [
      "[[ 40 115  25]\n",
      " [ 15  20  75]]\n",
      "This is done by John Callahan\n"
     ]
    }
   ],
   "source": [
    "##to get  the second and third row of arr4\n",
    "\n",
    "print (arr4[1:3])\n",
    "\n",
    "print (\"This is done by John Callahan\")"
   ]
  },
  {
   "cell_type": "code",
   "execution_count": 70,
   "metadata": {},
   "outputs": [
    {
     "name": "stdout",
     "output_type": "stream",
     "text": [
      "[[ 20  15]\n",
      " [115  25]]\n",
      "This is done by John Callahan\n"
     ]
    }
   ],
   "source": [
    "#if you want submatrices of a matrix not elements you can use : for slice notations\n",
    "#let us say that I want to grap 20,15,115,25,20,75 i.e. the submatrix at the top right corner\n",
    "\n",
    "print (arr4[:2,1:])\n",
    "\n",
    "print (\"This is done by John Callahan\")"
   ]
  },
  {
   "cell_type": "code",
   "execution_count": 71,
   "metadata": {},
   "outputs": [
    {
     "name": "stdout",
     "output_type": "stream",
     "text": [
      "[[ True False False]\n",
      " [ True  True False]\n",
      " [False False  True]\n",
      " [False False  True]]\n",
      "This is done by John Callahan\n"
     ]
    }
   ],
   "source": [
    "#let us say that we want to know all the elements of the array arr4 that are > 30\n",
    "\n",
    "print (arr4 >30)\n",
    "\n",
    "print (\"This is done by John Callahan\")"
   ]
  },
  {
   "cell_type": "code",
   "execution_count": null,
   "metadata": {},
   "outputs": [],
   "source": []
  }
 ],
 "metadata": {
  "kernelspec": {
   "display_name": "Python 3 (ipykernel)",
   "language": "python",
   "name": "python3"
  },
  "language_info": {
   "codemirror_mode": {
    "name": "ipython",
    "version": 3
   },
   "file_extension": ".py",
   "mimetype": "text/x-python",
   "name": "python",
   "nbconvert_exporter": "python",
   "pygments_lexer": "ipython3",
   "version": "3.11.5"
  }
 },
 "nbformat": 4,
 "nbformat_minor": 2
}
