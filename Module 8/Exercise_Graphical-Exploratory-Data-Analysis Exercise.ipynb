{
 "cells": [
  {
   "cell_type": "markdown",
   "metadata": {},
   "source": [
    "**Graphical Exploratory Data Analysis Exercises**\n",
    "\n",
    "- For this group of exercises We are going to use you will use a classic data set collected by botanist Edward Anderson and made famous by Ronald Fisher, one of the most prolific statisticians in history. Anderson carefully measured the anatomical properties of samples of three different species of iris, Iris setosa, Iris versicolor, and Iris virginica.\n",
    "- The full data set is available as part of scikit-learn.\n",
    "- To make it easy we downloaded the data set as data/iris.csv\n",
    "- We also created numpy array from samples of the data existing in this csv file\n",
    "- Here, you will work with his measurements of petal length"
   ]
  },
  {
   "cell_type": "markdown",
   "metadata": {},
   "source": [
    "**Exercise 1: Creating a histogram**\n",
    "\n",
    "**Instructions**\n",
    "- Load the data/iris.csv to a data frame df\n",
    "- display the head of df to look at the columns\n",
    "- Use the following numpy array which has been created by selecting a sample from the column. This is to make it easy.\n",
    "versicolor_petal_length = np.array([ 4.7,  4.5,  4.9,  4. ,  4.6,  4.5,  4.7,  3.3,  4.6,  3.9,  3.5,\n",
    "        4.2,  4. ,  4.7,  3.6,  4.4,  4.5,  4.1,  4.5,  3.9,  4.8,  4. ,\n",
    "        4.9,  4.7,  4.3,  4.4,  4.8,  5. ,  4.5,  3.5,  3.8,  3.7,  3.9,\n",
    "        5.1,  4.5,  4.5,  4.7,  4.4,  4.1,  4. ,  4.4,  4.6,  4. ,  3.3,\n",
    "        4.2,  4.2,  4.2,  4.3,  3. ,  4.1])\n",
    "- Import matplotlib.pyplot and seaborn as their usual aliases (plt and sns).\n",
    "- Use seaborn to set the plotting defaults.\n",
    "- Plot a histogram of the Iris versicolor petal lengths using plt.hist() and the provided NumPy array versicolor_petal_length.\n",
    "- Label the axes. Don't forget that you should always include units in your axis labels.\n",
    "- Your y-axis label is just 'count'. \n",
    "- Your x-axis label is 'petal length (cm)'. The units are essential!\n",
    "\n",
    "- Show the histogram using plt.show()."
   ]
  },
  {
   "cell_type": "code",
   "execution_count": 16,
   "metadata": {},
   "outputs": [
    {
     "name": "stdout",
     "output_type": "stream",
     "text": [
      "This is done by John Callahan\n"
     ]
    },
    {
     "data": {
      "image/png": "[encoded data removed]",
      "text/plain": [
       "<Figure size 640x480 with 1 Axes>"
      ]
     },
     "metadata": {},
     "output_type": "display_data"
    }
   ],
   "source": [
    "print (\"This is done by John Callahan\")\n",
    "# Import plotting modules and pandas\n",
    "import pandas as pd\n",
    "import numpy as np\n",
    "import matplotlib.pyplot as plt\n",
    "import seaborn as sns\n",
    "%matplotlib inline\n",
    "\n",
    "#use the numpy that we mentioned in the exercise\n",
    "versicolor_petal_length_2024 = np.array([ 4.7,  4.5,  4.9,  4. ,  4.6,  4.5,  4.7,  3.3,  4.6,  3.9,  3.5,\n",
    "        4.2,  4. ,  4.7,  3.6,  4.4,  4.5,  4.1,  4.5,  3.9,  4.8,  4. ,\n",
    "        4.9,  4.7,  4.3,  4.4,  4.8,  5. ,  4.5,  3.5,  3.8,  3.7,  3.9,\n",
    "        5.1,  4.5,  4.5,  4.7,  4.4,  4.1,  4. ,  4.4,  4.6,  4. ,  3.3,\n",
    "        4.2,  4.2,  4.2,  4.3,  3. ,  4.1])\n",
    "\n",
    "# Set default Seaborn style\n",
    "sns.set_style('darkgrid')\n",
    "\n",
    "\n",
    "# Plot histogram of versicolor petal lengths\n",
    "plt.hist(versicolor_petal_length_2024)\n",
    "\n",
    "\n",
    "\n",
    "# Label axes\n",
    "plt.xlabel('petal length (cm)')\n",
    "plt.ylabel('count')\n",
    "\n",
    "# Show histogram\n",
    "plt.show()\n"
   ]
  },
  {
   "cell_type": "markdown",
   "metadata": {},
   "source": [
    "**Exericse 2: Adding bins to the histogram**\n",
    "- Instructions \n",
    "- Continuation to the Exercise 1\n",
    "- Import numpy as np. This gives access to the square root function, np.sqrt().\n",
    "- Determine how many data points you have using len().\n",
    "- Compute the number of bins using the square root rule.\n",
    "- Convert the number of bins to an integer using the built in int() function.\n",
    "- Generate the histogram and make sure to use the bins keyword argument.\n",
    "- Show the plot"
   ]
  },
  {
   "cell_type": "code",
   "execution_count": 17,
   "metadata": {},
   "outputs": [
    {
     "name": "stdout",
     "output_type": "stream",
     "text": [
      "This is done by John Callahan\n"
     ]
    },
    {
     "data": {
      "image/png": "[encoded data removed]",
      "text/plain": [
       "<Figure size 640x480 with 1 Axes>"
      ]
     },
     "metadata": {},
     "output_type": "display_data"
    }
   ],
   "source": [
    "print (\"This is done by John Callahan\")\n",
    "# Import numpy\n",
    "import numpy as np\n",
    "\n",
    "\n",
    "#use the numpy mentioned in the exercise\n",
    "versicolor_petal_length_2024 = np.array([ 4.7,  4.5,  4.9,  4. ,  4.6,  4.5,  4.7,  3.3,  4.6,  3.9,  3.5,\n",
    "        4.2,  4. ,  4.7,  3.6,  4.4,  4.5,  4.1,  4.5,  3.9,  4.8,  4. ,\n",
    "        4.9,  4.7,  4.3,  4.4,  4.8,  5. ,  4.5,  3.5,  3.8,  3.7,  3.9,\n",
    "        5.1,  4.5,  4.5,  4.7,  4.4,  4.1,  4. ,  4.4,  4.6,  4. ,  3.3,\n",
    "        4.2,  4.2,  4.2,  4.3,  3. ,  4.1])\n",
    "\n",
    "\n",
    "# Compute number of data points: n_data_2024\n",
    "n_data_2024=len(versicolor_petal_length_2024)\n",
    "\n",
    "# Number of bins is the square root of number of data points: n_bins_2024\n",
    "n_bins_2024=np.sqrt(n_data_2024)\n",
    "\n",
    "\n",
    "# Convert number of bins to integer: n_bins_2024\n",
    "n_bins_2024=int(n_bins_2024)\n",
    "\n",
    "\n",
    "# Plot the histogram\n",
    "plt.hist(versicolor_petal_length_2024,bins=n_bins_2024)\n",
    "\n",
    "# Label axes\n",
    "plt.xlabel('petal length (cm)')\n",
    "plt.ylabel('count')\n",
    "\n",
    "# Show histogram\n",
    "plt.show()\n",
    "\n"
   ]
  },
  {
   "cell_type": "markdown",
   "metadata": {},
   "source": [
    "**Exercise 3: Bee Swarm Plot**\n",
    "\n",
    "- Make a bee swarm plot of the iris petal lengths. Your x-axis should contain each of the three species, and the y-axis the petal lengths. A data frame containing the data is in your namespace as df_2024.\n",
    "\n",
    "- Instructions\n",
    "- inspect the DataFrame df using df_2024.head(). This will let you identify which column names you need to pass as the x and y keyword arguments in your call to sns.swarmplot().\n",
    "- Use sns.swarmplot() to make a bee swarm plot from the DataFrame containing the Fisher iris data set, df_iris_2024. The x-axis should contain each of the three species, and the y-axis should contain the petal lengths.\n",
    "- Label the axes.\n",
    "- Show your plot."
   ]
  },
  {
   "cell_type": "code",
   "execution_count": 18,
   "metadata": {},
   "outputs": [
    {
     "name": "stdout",
     "output_type": "stream",
     "text": [
      "This is done by John Callahan\n"
     ]
    },
    {
     "data": {
      "text/html": [
       "<div>\n",
       "<style scoped>\n",
       "    .dataframe tbody tr th:only-of-type {\n",
       "        vertical-align: middle;\n",
       "    }\n",
       "\n",
       "    .dataframe tbody tr th {\n",
       "        vertical-align: top;\n",
       "    }\n",
       "\n",
       "    .dataframe thead th {\n",
       "        text-align: right;\n",
       "    }\n",
       "</style>\n",
       "<table border=\"1\" class=\"dataframe\">\n",
       "  <thead>\n",
       "    <tr style=\"text-align: right;\">\n",
       "      <th></th>\n",
       "      <th>sepal length (cm)</th>\n",
       "      <th>sepal width (cm)</th>\n",
       "      <th>petal length (cm)</th>\n",
       "      <th>petal width (cm)</th>\n",
       "      <th>species</th>\n",
       "    </tr>\n",
       "  </thead>\n",
       "  <tbody>\n",
       "    <tr>\n",
       "      <th>0</th>\n",
       "      <td>5.1</td>\n",
       "      <td>3.5</td>\n",
       "      <td>1.4</td>\n",
       "      <td>0.2</td>\n",
       "      <td>setosa</td>\n",
       "    </tr>\n",
       "    <tr>\n",
       "      <th>1</th>\n",
       "      <td>4.9</td>\n",
       "      <td>3.0</td>\n",
       "      <td>1.4</td>\n",
       "      <td>0.2</td>\n",
       "      <td>setosa</td>\n",
       "    </tr>\n",
       "    <tr>\n",
       "      <th>2</th>\n",
       "      <td>4.7</td>\n",
       "      <td>3.2</td>\n",
       "      <td>1.3</td>\n",
       "      <td>0.2</td>\n",
       "      <td>setosa</td>\n",
       "    </tr>\n",
       "    <tr>\n",
       "      <th>3</th>\n",
       "      <td>4.6</td>\n",
       "      <td>3.1</td>\n",
       "      <td>1.5</td>\n",
       "      <td>0.2</td>\n",
       "      <td>setosa</td>\n",
       "    </tr>\n",
       "    <tr>\n",
       "      <th>4</th>\n",
       "      <td>5.0</td>\n",
       "      <td>3.6</td>\n",
       "      <td>1.4</td>\n",
       "      <td>0.2</td>\n",
       "      <td>setosa</td>\n",
       "    </tr>\n",
       "  </tbody>\n",
       "</table>\n",
       "</div>"
      ],
      "text/plain": [
       "   sepal length (cm)  sepal width (cm)  petal length (cm)  petal width (cm)  \\\n",
       "0                5.1               3.5                1.4               0.2   \n",
       "1                4.9               3.0                1.4               0.2   \n",
       "2                4.7               3.2                1.3               0.2   \n",
       "3                4.6               3.1                1.5               0.2   \n",
       "4                5.0               3.6                1.4               0.2   \n",
       "\n",
       "  species  \n",
       "0  setosa  \n",
       "1  setosa  \n",
       "2  setosa  \n",
       "3  setosa  \n",
       "4  setosa  "
      ]
     },
     "execution_count": 18,
     "metadata": {},
     "output_type": "execute_result"
    }
   ],
   "source": [
    "print (\"This is done by John Callahan\")\n",
    "# Import plotting modules and pandas\n",
    "import pandas as pd\n",
    "import matplotlib.pyplot as plt\n",
    "import seaborn as sns \n",
    "    \n",
    "\n",
    "#Load the data/iris.csv to a data frame df_iris_2024\n",
    "df_iris_2024=pd.read_csv('data/iris.csv') \n",
    "\n",
    "#show the head to see the various columns\n",
    "df_iris_2024.head() \n"
   ]
  },
  {
   "cell_type": "code",
   "execution_count": 19,
   "metadata": {},
   "outputs": [
    {
     "name": "stdout",
     "output_type": "stream",
     "text": [
      "This is done by John Callahan\n"
     ]
    },
    {
     "data": {
      "image/png": "[encoded data removed]",
      "text/plain": [
       "<Figure size 640x480 with 1 Axes>"
      ]
     },
     "metadata": {},
     "output_type": "display_data"
    }
   ],
   "source": [
    "print (\"This is done by John Callahan\")\n",
    "#import warnings\n",
    "import warnings\n",
    "warnings.filterwarnings('ignore')\n",
    "\n",
    "# Create bee swarm plot with Seaborn's default settings\n",
    "sns.swarmplot(x='species',y='petal length (cm)',data=df_iris_2024) \n",
    "\n",
    "# Label the axes\n",
    "plt.xlabel('species')\n",
    "plt.ylabel('petal length (cm)')\n",
    "\n",
    "# Show the plot\n",
    "plt.show()\n"
   ]
  },
  {
   "cell_type": "markdown",
   "metadata": {},
   "source": [
    "**Exercise 4: Computing the ECDF**\n",
    "- In this exercise, you will write a function that takes as input a 1D array of data and then returns the x and y values of the ECDF. You will use this function over and over again throughout this course and its sequel. ECDFs are among the most important plots in statistical analysis\n",
    "\n",
    "- Instructions:\n",
    "  - Define a function with the signature ecdf_2024(data). Within the function definition,\n",
    "    - Compute the number of data points, n_2024, using the len() function.\n",
    "    - The x-values are the sorted data. Use the np.sort() function to perform the sorting.\n",
    "    - The y data of the ECDF go from 1/n to 1 in equally spaced increments. You can construct \n",
    "        this using np.arange(). Remember, however, that the end value in np.arange() is not \n",
    "        inclusive. Therefore, np.arange() will need to go from 1 to n+1. Be sure to divide this by n_2024.\n",
    "    - The function returns the values x_2024 and y_2024."
   ]
  },
  {
   "cell_type": "code",
   "execution_count": 20,
   "metadata": {},
   "outputs": [
    {
     "name": "stdout",
     "output_type": "stream",
     "text": [
      "This is done by John Callahan\n"
     ]
    }
   ],
   "source": [
    "print (\"This is done by John Callahan\")\n",
    "#import numpy\n",
    "import numpy as np \n",
    "    \n",
    "#define a function name it ecdf that will take data as argument\n",
    "def ecdf_2024(data):\n",
    "    \n",
    "    #add a comment using the triple quotes\n",
    "    '''Function that takes an input of 1D array of data and then returns the x and y values of the ECDF'''\n",
    "\n",
    "    # Number of data points: n_2024\n",
    "    n_2024=len(data)\n",
    "\n",
    "    # x-data for the ECDF: x_2024\n",
    "    x_2024=np.sort(data)\n",
    "\n",
    "    # y-data for the ECDF: y_2024\n",
    "    y_2024=np.arange(1,n_2024+1) / n_2024\n",
    "    \n",
    "    #add a return statement that\n",
    "    return x_2024,y_2024"
   ]
  },
  {
   "cell_type": "markdown",
   "metadata": {},
   "source": [
    "**Exercise 5: Comparison of ECDFs**\n",
    "- Instructions\n",
    "    \n",
    "  - Compute ECDFs for each of the three species using your ecdf_2024() function. The variables setosa_petal_length, versicolor_petal_length, and virginica_petal_length are all in your namespace.\n",
    "  - Unpack the ECDFs into x_set_2024, y_set_2024, x_vers_2024, y_vers_2024 and x_virg_2024, y_virg_2024, respectively.\n",
    "  - Plot all three ECDFs on the same plot as dots. To do this, you will need three plt.plot() commands.\n",
    "  - Assign the result of each to _.\n",
    "  - Specify 2% margins.\n",
    "  - A legend and axis labels have been added for you!\n",
    "- Use the following numpy arrays\n",
    "\n",
    "setosa_petal_length_2024 = np.array([ 1.4,  1.4,  1.3,  1.5,  1.4,  1.7,  1.4,  1.5,  1.4,  1.5,  1.5,\n",
    "        1.6,  1.4,  1.1,  1.2,  1.5,  1.3,  1.4,  1.7,  1.5,  1.7,  1.5,\n",
    "        1. ,  1.7,  1.9,  1.6,  1.6,  1.5,  1.4,  1.6,  1.6,  1.5,  1.5,\n",
    "        1.4,  1.5,  1.2,  1.3,  1.5,  1.3,  1.5,  1.3,  1.3,  1.3,  1.6,\n",
    "        1.9,  1.4,  1.6,  1.4,  1.5,  1.4])\n",
    "\n",
    "versicolor_petal_length_2024 = np.array([ 4.7,  4.5,  4.9,  4. ,  4.6,  4.5,  4.7,  3.3,  4.6,  3.9,  3.5,\n",
    "        4.2,  4. ,  4.7,  3.6,  4.4,  4.5,  4.1,  4.5,  3.9,  4.8,  4. ,\n",
    "        4.9,  4.7,  4.3,  4.4,  4.8,  5. ,  4.5,  3.5,  3.8,  3.7,  3.9,\n",
    "        5.1,  4.5,  4.5,  4.7,  4.4,  4.1,  4. ,  4.4,  4.6,  4. ,  3.3,\n",
    "        4.2,  4.2,  4.2,  4.3,  3. ,  4.1])\n",
    "\n",
    "virginica_petal_length_2024 = np.array([ 6. ,  5.1,  5.9,  5.6,  5.8,  6.6,  4.5,  6.3,  5.8,  6.1,  5.1,\n",
    "        5.3,  5.5,  5. ,  5.1,  5.3,  5.5,  6.7,  6.9,  5. ,  5.7,  4.9,\n",
    "        6.7,  4.9,  5.7,  6. ,  4.8,  4.9,  5.6,  5.8,  6.1,  6.4,  5.6,\n",
    "        5.1,  5.6,  6.1,  5.6,  5.5,  4.8,  5.4,  5.6,  5.1,  5.1,  5.9,\n",
    "        5.7,  5.2,  5. ,  5.2,  5.4,  5.1])\n"
   ]
  },
  {
   "cell_type": "code",
   "execution_count": 21,
   "metadata": {},
   "outputs": [
    {
     "name": "stdout",
     "output_type": "stream",
     "text": [
      "This is done by John Callahan\n"
     ]
    },
    {
     "data": {
      "image/png": "[encoded data removed]",
      "text/plain": [
       "<Figure size 640x480 with 1 Axes>"
      ]
     },
     "metadata": {},
     "output_type": "display_data"
    }
   ],
   "source": [
    "print (\"This is done by John Callahan\")\n",
    "#import the required libraries\n",
    "import pandas as pd\n",
    "import numpy as np\n",
    "import matplotlib.pyplot as plt\n",
    "import seaborn as sns\n",
    "\n",
    "\n",
    "#use the numpy arrays mentioned in the exercise\n",
    "setosa_petal_length_2024 = np.array([ 1.4,  1.4,  1.3,  1.5,  1.4,  1.7,  1.4,  1.5,  1.4,  1.5,  1.5,\n",
    "        1.6,  1.4,  1.1,  1.2,  1.5,  1.3,  1.4,  1.7,  1.5,  1.7,  1.5,\n",
    "        1. ,  1.7,  1.9,  1.6,  1.6,  1.5,  1.4,  1.6,  1.6,  1.5,  1.5,\n",
    "        1.4,  1.5,  1.2,  1.3,  1.5,  1.3,  1.5,  1.3,  1.3,  1.3,  1.6,\n",
    "        1.9,  1.4,  1.6,  1.4,  1.5,  1.4])\n",
    "\n",
    "versicolor_petal_length_2024 = np.array([ 4.7,  4.5,  4.9,  4. ,  4.6,  4.5,  4.7,  3.3,  4.6,  3.9,  3.5,\n",
    "        4.2,  4. ,  4.7,  3.6,  4.4,  4.5,  4.1,  4.5,  3.9,  4.8,  4. ,\n",
    "        4.9,  4.7,  4.3,  4.4,  4.8,  5. ,  4.5,  3.5,  3.8,  3.7,  3.9,\n",
    "        5.1,  4.5,  4.5,  4.7,  4.4,  4.1,  4. ,  4.4,  4.6,  4. ,  3.3,\n",
    "        4.2,  4.2,  4.2,  4.3,  3. ,  4.1])\n",
    "\n",
    "virginica_petal_length_2024 = np.array([ 6. ,  5.1,  5.9,  5.6,  5.8,  6.6,  4.5,  6.3,  5.8,  6.1,  5.1,\n",
    "        5.3,  5.5,  5. ,  5.1,  5.3,  5.5,  6.7,  6.9,  5. ,  5.7,  4.9,\n",
    "        6.7,  4.9,  5.7,  6. ,  4.8,  4.9,  5.6,  5.8,  6.1,  6.4,  5.6,\n",
    "        5.1,  5.6,  6.1,  5.6,  5.5,  4.8,  5.4,  5.6,  5.1,  5.1,  5.9,\n",
    "        5.7,  5.2,  5. ,  5.2,  5.4,  5.1])\n",
    "\n",
    "\n",
    "\n",
    "#define the function call it ecdf_2024 and it take an argument data\n",
    "def ecdf_2024(data):\n",
    "    \"\"\"Compute ECDF for a one-dimensional array of measurements.\"\"\"\n",
    "\n",
    "    # Number of data points: n_2024\n",
    "    n_2024=len(data)\n",
    "\n",
    "    # x-data for the ECDF: x_2024\n",
    "    x_2024=np.sort(data)\n",
    "\n",
    "    # y-data for the ECDF: y_2024\n",
    "    y_2024=np.arange(1,n_2024+1) / n_2024\n",
    "\n",
    "    #add a return statement\n",
    "    return x_2024,y_2024\n",
    "\n",
    "#Compute ECDFs\n",
    "x_set_2024,y_set_2024=ecdf_2024(setosa_petal_length_2024)\n",
    "x_vers_2024,y_vers_2024=ecdf_2024(versicolor_petal_length_2024)\n",
    "x_virg_2024,y_virg_2024=ecdf_2024(virginica_petal_length_2024)\n",
    "\n",
    "# Plot all ECDFs on the same plot\n",
    "_=plt.plot(x_set_2024,y_set_2024,marker='.',linestyle='none')\n",
    "_=plt.plot(x_vers_2024,y_vers_2024,marker='.',linestyle='none')\n",
    "_=plt.plot(x_virg_2024,y_virg_2024,marker='.',linestyle='none')\n",
    "\n",
    "# Make nice margins\n",
    "\n",
    "plt.margins(0.02)\n",
    "\n",
    "# Annotate the plot add a legend locate it at the lower right\n",
    "plt.legend(('setosa','versicolor','virginica'),loc='lower right')\n",
    "_=plt.xlabel('petal length (cm)')\n",
    "_=plt.ylabel('ecdf')\n",
    "\n",
    "# Display the plot\n",
    "plt.show()\n",
    "\n"
   ]
  },
  {
   "cell_type": "code",
   "execution_count": null,
   "metadata": {},
   "outputs": [],
   "source": []
  }
 ],
 "metadata": {
  "kernelspec": {
   "display_name": "Python 3 (ipykernel)",
   "language": "python",
   "name": "python3"
  },
  "language_info": {
   "codemirror_mode": {
    "name": "ipython",
    "version": 3
   },
   "file_extension": ".py",
   "mimetype": "text/x-python",
   "name": "python",
   "nbconvert_exporter": "python",
   "pygments_lexer": "ipython3",
   "version": "3.11.5"
  }
 },
 "nbformat": 4,
 "nbformat_minor": 2
}
