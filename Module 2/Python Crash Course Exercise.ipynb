{
 "cells": [
  {
   "cell_type": "markdown",
   "metadata": {},
   "source": [
    "**Python Crash Course Exercise**"
   ]
  },
  {
   "cell_type": "markdown",
   "metadata": {},
   "source": [
    "**Exercise 1 print formatting**\n",
    "- you have the following variables\n",
    "- age=25\n",
    "- name ='Samuel'\n",
    "- major = 'CIS Networking'"
   ]
  },
  {
   "cell_type": "markdown",
   "metadata": {},
   "source": [
    "**Let us see how use print formatting**\n",
    "- Write line of code to print the following. Use .format syntax\n",
    "- Samuel is 25 years old. His major is CIS Networking."
   ]
  },
  {
   "cell_type": "code",
   "execution_count": 4,
   "metadata": {},
   "outputs": [
    {
     "name": "stdout",
     "output_type": "stream",
     "text": [
      "This is John Callahan\n"
     ]
    }
   ],
   "source": [
    "#assign values to the different variables as mentioned in the exercise above\n",
    "\n",
    "age = 25\n",
    "name = 'Samuel'\n",
    "major = 'CIS Networking'\n",
    "\n",
    "print (\"This is John Callahan\")"
   ]
  },
  {
   "cell_type": "code",
   "execution_count": 5,
   "metadata": {
    "scrolled": true
   },
   "outputs": [
    {
     "name": "stdout",
     "output_type": "stream",
     "text": [
      "Samuel is 25 years old. His major is CIS Networking.\n",
      "This is John Callahan\n"
     ]
    }
   ],
   "source": [
    "#use the print formating to produce the required output\n",
    "\n",
    "print('{} is {} years old. His major is {}.'.format(name,age,major))\n",
    "\n",
    "print (\"This is John Callahan\")"
   ]
  },
  {
   "cell_type": "markdown",
   "metadata": {},
   "source": [
    "**Exercise 2 Mathematical calculation and using decimal point formating**\n",
    "- You have three variables itemUnitCost, itemQuantity totalCost\n",
    "  - itemUnitCost= $35.99\n",
    "  - itemQuantity=3\n",
    " \n",
    "- Calculate the total cost\n",
    "- Use the print format to produce an output\n"
   ]
  },
  {
   "cell_type": "code",
   "execution_count": 6,
   "metadata": {},
   "outputs": [
    {
     "name": "stdout",
     "output_type": "stream",
     "text": [
      "Item unit cost $35.99, number of items =  3, total cost = $107.97\n",
      "This is John Callahan\n"
     ]
    }
   ],
   "source": [
    "#assign values to the variables mentioned in the example above\n",
    " \n",
    "itemUnitCost = 35.99 \n",
    "itemQuantity = 3\n",
    "\n",
    "#calculate the total cost\n",
    "totalcost = itemUnitCost * itemQuantity\n",
    "\n",
    "#print the itemUnitCost, itemQuantity, total cost using d and .2f format\n",
    "print('Item unit cost ${0:0.2f}, number of items = {1:2d}, total cost = ${2:0.2f}'.format(itemUnitCost,itemQuantity,totalcost))\n",
    "\n",
    "#the output should look as follow\n",
    "# Item unit cost $35.99, number ot items=  3, total cost=$107.97\n",
    "\n",
    "print (\"This is John Callahan\")"
   ]
  },
  {
   "cell_type": "markdown",
   "metadata": {},
   "source": [
    "**Lists in Python**\n",
    "\n",
    "**Exercise 3:**"
   ]
  },
  {
   "cell_type": "code",
   "execution_count": 9,
   "metadata": {},
   "outputs": [
    {
     "name": "stdout",
     "output_type": "stream",
     "text": [
      "['30', '40', '70', '80']\n",
      "This is John Callahan\n"
     ]
    }
   ],
   "source": [
    "# you have alist \n",
    "\n",
    "list1 = ['30','40','70']\n",
    "\n",
    "#how to add 80 to the end of the list\n",
    "\n",
    "list1.append('80')\n",
    "\n",
    "#display the list\n",
    "\n",
    "print (list1)\n",
    "\n",
    "print (\"This is John Callahan\")"
   ]
  },
  {
   "cell_type": "markdown",
   "metadata": {},
   "source": [
    "**Exercise 4:**"
   ]
  },
  {
   "cell_type": "code",
   "execution_count": 12,
   "metadata": {},
   "outputs": [
    {
     "data": {
      "text/plain": [
       "['70', '80']"
      ]
     },
     "execution_count": 12,
     "metadata": {},
     "output_type": "execute_result"
    }
   ],
   "source": [
    "#Retrieve elements of our_list starting at index 2 up to the end.\n",
    "\n",
    "list1[2:]\n",
    "\n",
    "#print (\"This is John Callahan\")"
   ]
  },
  {
   "cell_type": "code",
   "execution_count": 13,
   "metadata": {},
   "outputs": [
    {
     "name": "stdout",
     "output_type": "stream",
     "text": [
      "['30', 'CISP41', '70', '80']\n",
      "This is John Callahan\n"
     ]
    }
   ],
   "source": [
    "#Modify the element with index 1 in list1 to the value 'CISP41'\n",
    "\n",
    "list1[1] = 'CISP41'\n",
    "\n",
    "#display the list\n",
    "\n",
    "print (list1)\n",
    "\n",
    "print (\"This is John Callahan\")"
   ]
  },
  {
   "cell_type": "markdown",
   "metadata": {},
   "source": [
    "**Exercise 5**"
   ]
  },
  {
   "cell_type": "code",
   "execution_count": 14,
   "metadata": {},
   "outputs": [
    {
     "name": "stdout",
     "output_type": "stream",
     "text": [
      "The number of elements/items in certificate_courses: 3\n",
      "This is John Callahan\n"
     ]
    }
   ],
   "source": [
    "#you have a list \n",
    "\n",
    "certificate_courses = ['CISP41', 'CISP42', 'CISP43']\n",
    "\n",
    "#find the number of elements or items in certificate_courses\n",
    "\n",
    "print('The number of elements/items in certificate_courses:',len(certificate_courses))\n",
    "\n",
    "print (\"This is John Callahan\")"
   ]
  },
  {
   "cell_type": "markdown",
   "metadata": {},
   "source": [
    "**Exercise 6**"
   ]
  },
  {
   "cell_type": "code",
   "execution_count": 15,
   "metadata": {},
   "outputs": [
    {
     "name": "stdout",
     "output_type": "stream",
     "text": [
      "Smallest value element of students: Jon\n",
      "Smallest value element of gpas:  2.3\n",
      "This is John Callahan\n"
     ]
    }
   ],
   "source": [
    "#create two lists in one statement students, gpa\n",
    "#students has string elements and gpa has numeric element\n",
    "\n",
    "students, gpa = ['Sofia','Mark','Jon'],[2.3,4.2,3.4]\n",
    "\n",
    "#print the smallest value element of students\n",
    "\n",
    "print('Smallest value element of students:',min(students))\n",
    "\n",
    "#print the smallest value element of gpas\n",
    "\n",
    "print('Smallest value element of gpas: ',min(gpa))\n",
    "\n",
    "print (\"This is John Callahan\")"
   ]
  },
  {
   "cell_type": "markdown",
   "metadata": {},
   "source": [
    "**Exercise 7**\n",
    "- You have a list of cities and states\n",
    "- You want to know the number of occurrences of CA\n"
   ]
  },
  {
   "cell_type": "code",
   "execution_count": 16,
   "metadata": {},
   "outputs": [
    {
     "name": "stdout",
     "output_type": "stream",
     "text": [
      "The number of occurrences of the \"CA\":  3\n",
      "This is John Callahan\n"
     ]
    }
   ],
   "source": [
    "#you have a list of cities and states named city_state_list\n",
    "\n",
    "City_State_List = ['CA', 'Long Beach', 'CA', 'Chino Hills', 'CA', 'Redando Beach', 'Ferrum','VA', 'Little Falls', 'NY',];\n",
    "\n",
    "#print the number of occurrences of the 'CA'\n",
    "\n",
    "print('The number of occurrences of the \"CA\": ', City_State_List.count('CA'))\n",
    "\n",
    "print (\"This is John Callahan\")"
   ]
  },
  {
   "cell_type": "markdown",
   "metadata": {},
   "source": [
    "**Exercise 8**"
   ]
  },
  {
   "cell_type": "code",
   "execution_count": 17,
   "metadata": {},
   "outputs": [
    {
     "name": "stdout",
     "output_type": "stream",
     "text": [
      "Final city list:  ['Albany', 'Amsterdam', 'Auburn', 'Batavia', 'Beacon', 'Binghamton', 'Buffalo', 'Canandaigua', 'Cohoes', 'Corning', 'Cortland', 'Dunkirk', 'Elmira', 'Fulton', 'Geneva']\n",
      "This is John Callahan\n"
     ]
    }
   ],
   "source": [
    "#You have a two lists of citites city1 and city2 \n",
    "\n",
    "city1=['Albany', 'Amsterdam', 'Auburn', 'Batavia', 'Beacon', 'Binghamton', 'Buffalo', 'Canandaigua']\n",
    "city2=['Cohoes', 'Corning', 'Cortland', 'Dunkirk', 'Elmira', 'Fulton', 'Geneva']\n",
    "\n",
    "#you want to add city2 to city1 at the end\n",
    "\n",
    "city1.extend(city2)\n",
    "\n",
    "#print the final list city after adding the other list to its end\n",
    "\n",
    "print('Final city list: ',city1)\n",
    "\n",
    "print (\"This is John Callahan\")"
   ]
  },
  {
   "cell_type": "markdown",
   "metadata": {},
   "source": [
    "**Exercise 9**"
   ]
  },
  {
   "cell_type": "markdown",
   "metadata": {},
   "source": [
    "**insert method**\n",
    "- list.insert(index, obj): *Inserts object obj into list at offset index*\n",
    "- Parameters\n",
    " - index − This is the Index where the object obj need to be inserted.\n",
    " - obj − This is the Object to be inserted into the given list."
   ]
  },
  {
   "cell_type": "code",
   "execution_count": 18,
   "metadata": {},
   "outputs": [
    {
     "name": "stdout",
     "output_type": "stream",
     "text": [
      "List after insert :  ['Albany', 'Amsterdam', 'Auburn', 'Elmira', 'Batavia', 'Beacon', 'Binghamton', 'Buffalo', 'Canandaigua']\n",
      "This is John Callahan\n"
     ]
    }
   ],
   "source": [
    "# you have a list of cities named city1\n",
    "\n",
    "city1=['Albany', 'Amsterdam', 'Auburn', 'Batavia', 'Beacon', 'Binghamton', 'Buffalo', 'Canandaigua']\n",
    "\n",
    "#you need to insert the city 'Elmira' before 'Batavia'\n",
    "\n",
    "city1.insert (3, 'Elmira')\n",
    "\n",
    "#print city1 after the insertion\n",
    "\n",
    "print ('List after insert : ', city1)\n",
    "\n",
    "print (\"This is John Callahan\")"
   ]
  },
  {
   "cell_type": "markdown",
   "metadata": {},
   "source": [
    "**Exercise 10**"
   ]
  },
  {
   "cell_type": "code",
   "execution_count": 19,
   "metadata": {},
   "outputs": [
    {
     "name": "stdout",
     "output_type": "stream",
     "text": [
      "['Albany', 'Amsterdam', 'Auburn', 'Batavia', 'Beacon', 'Binghamton', 'Buffalo']\n",
      "This is John Callahan\n"
     ]
    }
   ],
   "source": [
    "#you have a list city1\n",
    "\n",
    "city1= ['Albany', 'Amsterdam', 'Auburn', 'Batavia', 'Beacon', 'Binghamton', 'Buffalo', 'Canandaigua']\n",
    "\n",
    "# you want to remove and return last object or obj from the list\n",
    "\n",
    "city1.pop()\n",
    "\n",
    "#print the list city1 after this process\n",
    "\n",
    "print (city1)\n",
    "\n",
    "print (\"This is John Callahan\")"
   ]
  },
  {
   "cell_type": "markdown",
   "metadata": {},
   "source": [
    "**Exercise 11**"
   ]
  },
  {
   "cell_type": "code",
   "execution_count": 20,
   "metadata": {},
   "outputs": [
    {
     "name": "stdout",
     "output_type": "stream",
     "text": [
      "['Albany', 'Amsterdam', 'Auburn', 'Beacon', 'Binghamton', 'Buffalo', 'Canandaigua']\n",
      "This is John Callahan\n"
     ]
    }
   ],
   "source": [
    "#you have a list city1\n",
    "\n",
    "city1= ['Albany', 'Amsterdam', 'Auburn', 'Batavia', 'Beacon', 'Binghamton', 'Buffalo', 'Canandaigua']\n",
    "\n",
    "# you want to remove the city 'Batavia'\n",
    "\n",
    "city1.remove ('Batavia')\n",
    "\n",
    "#print the list city1 after this process\n",
    "\n",
    "print (city1)\n",
    "\n",
    "print (\"This is John Callahan\")"
   ]
  },
  {
   "cell_type": "markdown",
   "metadata": {},
   "source": [
    "**Exercise 12**"
   ]
  },
  {
   "cell_type": "code",
   "execution_count": 21,
   "metadata": {},
   "outputs": [
    {
     "name": "stdout",
     "output_type": "stream",
     "text": [
      "['Adams', 'Gigi', 'Henry', 'Kevin', 'Mark', 'Sam', 'Zac']\n",
      "This is John Callahan\n"
     ]
    }
   ],
   "source": [
    "#You have a list of students\n",
    "\n",
    "students=['Sam','Zac', 'Henry','Mark','Gigi', 'Kevin', 'Adams']\n",
    "\n",
    "# you want to sort the elements in students in alphabetic ascending order\n",
    "\n",
    "students.sort()\n",
    "\n",
    "#print the sorted list\n",
    "\n",
    "print (students)\n",
    "\n",
    "print (\"This is John Callahan\")"
   ]
  },
  {
   "cell_type": "markdown",
   "metadata": {},
   "source": [
    "**Exercise 13 Tuples**"
   ]
  },
  {
   "cell_type": "code",
   "execution_count": 22,
   "metadata": {},
   "outputs": [
    {
     "name": "stdout",
     "output_type": "stream",
     "text": [
      "('Fall', 'Winter', 'Spring', 'Summer')\n",
      "This is John Callahan\n"
     ]
    }
   ],
   "source": [
    "#create a tuple name it semesters that includes the our college semesters Fall,Winter,Spring,Summer\n",
    "\n",
    "semesters_tuple = ('Fall', 'Winter', 'Spring', 'Summer')\n",
    "\n",
    "#print the tuple\n",
    "\n",
    "print (semesters_tuple)\n",
    "\n",
    "print (\"This is John Callahan\")"
   ]
  },
  {
   "cell_type": "code",
   "execution_count": 23,
   "metadata": {},
   "outputs": [
    {
     "name": "stdout",
     "output_type": "stream",
     "text": [
      "('Winter', 'Spring')\n",
      "This is John Callahan\n"
     ]
    }
   ],
   "source": [
    "#retrieve the elements Winter and Spring from the semesters tuple using indeces separated by colon in one statement print them\n",
    "\n",
    "print (semesters_tuple[1:3])\n",
    "\n",
    "print (\"This is John Callahan\")\n"
   ]
  },
  {
   "cell_type": "markdown",
   "metadata": {},
   "source": [
    "**Exercise 14 Dictionary**"
   ]
  },
  {
   "cell_type": "code",
   "execution_count": 24,
   "metadata": {},
   "outputs": [
    {
     "name": "stdout",
     "output_type": "stream",
     "text": [
      "{'firstName': 'Sam', 'LastName': 'Jack', 'department': 'Accounting', 'age': 22, 'annualSalary': 60000}\n",
      "This is John Callahan\n"
     ]
    }
   ],
   "source": [
    "#create a employee dictionary-- key value pairs firstName-Sam, lastName-Jack, department-Accounting, age-22, annualSalary-60000\n",
    "\n",
    "employeedict = {'firstName' : 'Sam', 'LastName' : 'Jack', 'department' : 'Accounting', 'age' : 22, 'annualSalary' : 60000}\n",
    "\n",
    "#print the dictionary\n",
    "\n",
    "print (employeedict)\n",
    "\n",
    "print (\"This is John Callahan\")"
   ]
  },
  {
   "cell_type": "markdown",
   "metadata": {},
   "source": [
    "**Exercise 15**"
   ]
  },
  {
   "cell_type": "code",
   "execution_count": 25,
   "metadata": {},
   "outputs": [
    {
     "name": "stdout",
     "output_type": "stream",
     "text": [
      "{'firstName': 'Sam', 'LastName': 'Jack', 'department': 'Accounting', 'age': 30, 'annualSalary': 60000}\n",
      "This is John Callahan\n"
     ]
    }
   ],
   "source": [
    "#change the age to 30 in the employee dictionary of previous exercise\n",
    "\n",
    "employeedict['age']=30\n",
    "\n",
    "#print the updated dictionary\n",
    "\n",
    "print (employeedict)\n",
    "\n",
    "print (\"This is John Callahan\")"
   ]
  },
  {
   "cell_type": "markdown",
   "metadata": {},
   "source": [
    "**Exercise 16**"
   ]
  },
  {
   "cell_type": "code",
   "execution_count": 26,
   "metadata": {},
   "outputs": [
    {
     "name": "stdout",
     "output_type": "stream",
     "text": [
      "This is John Callahan\n"
     ]
    }
   ],
   "source": [
    "\n",
    "#retrieve all the keys of the employee dictionary mentioned above\n",
    "\n",
    "employeedict.keys()\n",
    "\n",
    "#retrieve all the values of the employee dictionary mentioned above\n",
    "\n",
    "employeedict.values()\n",
    "\n",
    "print (\"This is John Callahan\")"
   ]
  },
  {
   "cell_type": "code",
   "execution_count": 27,
   "metadata": {},
   "outputs": [
    {
     "name": "stdout",
     "output_type": "stream",
     "text": [
      "{'firstName': 'Sam', 'LastName': 'Jack', 'department': 'Accounting', 'age': 30}\n",
      "This is John Callahan\n"
     ]
    }
   ],
   "source": [
    "#delete the dictionary item annualSalary of the employee dictionary mentioned above - remove entry with key annualSalary\n",
    "\n",
    "del employeedict['annualSalary']\n",
    "\n",
    "#print the dictionary after the deletion\n",
    "\n",
    "print (employeedict)\n",
    "\n",
    "print (\"This is John Callahan\")"
   ]
  },
  {
   "cell_type": "markdown",
   "metadata": {},
   "source": [
    "**Exercise 17**"
   ]
  },
  {
   "cell_type": "code",
   "execution_count": 28,
   "metadata": {},
   "outputs": [
    {
     "name": "stdout",
     "output_type": "stream",
     "text": [
      "Congrats you passed\n",
      "This is John Callahan\n"
     ]
    }
   ],
   "source": [
    "#write if else satement to perform the following\n",
    "#if score < 60 print hard luck see you next semester\n",
    "#otherwise congrat you passed\n",
    "#add a statement score=xx and test your code\n",
    "\n",
    "score=75\n",
    "if score < 60:\n",
    "    print ('Hard luck see you next semester')\n",
    "else:\n",
    "    print ('Congrats you passed')\n",
    "    \n",
    "print (\"This is John Callahan\")"
   ]
  },
  {
   "cell_type": "markdown",
   "metadata": {},
   "source": [
    "**Exercise 18 for loop**"
   ]
  },
  {
   "cell_type": "code",
   "execution_count": 29,
   "metadata": {},
   "outputs": [
    {
     "name": "stdout",
     "output_type": "stream",
     "text": [
      "Sam\n",
      "Zak\n",
      "Henry\n",
      "Mark\n",
      "Gigi\n",
      "Brian\n",
      "Emily\n",
      "Jose\n",
      "This is John Callahan\n"
     ]
    }
   ],
   "source": [
    "#use a for loop to print the element in the following list each on a separate line\n",
    "\n",
    "students=['Sam', 'Zak', 'Henry', 'Mark', 'Gigi', 'Brian', 'Emily',\n",
    "       'Jose']\n",
    "\n",
    "#code\n",
    "\n",
    "for student in students:\n",
    "    print (student)\n",
    "\n",
    "print (\"This is John Callahan\")"
   ]
  },
  {
   "cell_type": "markdown",
   "metadata": {},
   "source": [
    "**Exercise 19 Strings**"
   ]
  },
  {
   "cell_type": "code",
   "execution_count": 30,
   "metadata": {},
   "outputs": [
    {
     "name": "stdout",
     "output_type": "stream",
     "text": [
      "HELLO WELCOME TO CISD41 IT IS AN INTERESTING COURSE\n",
      "This is John Callahan\n"
     ]
    }
   ],
   "source": [
    "#you have a string named greeting = \"Hello welcome to CISD41 It is an interesting course\"\n",
    "\n",
    "greeting = \"Hello welcome to CISD41 It is an interesting course\"\n",
    "\n",
    "#change all letters in greeting to upper case and print it\n",
    "\n",
    "print (greeting.upper())\n",
    "\n",
    "print (\"This is John Callahan\")"
   ]
  },
  {
   "cell_type": "code",
   "execution_count": 31,
   "metadata": {},
   "outputs": [
    {
     "name": "stdout",
     "output_type": "stream",
     "text": [
      "['Hello', 'welcome', 'to', 'CISD41', 'It', 'is', 'an', 'interesting', 'course']\n",
      "This is John Callahan\n"
     ]
    }
   ],
   "source": [
    "#Split the words in greeting to a list\n",
    "\n",
    "greeting1 = greeting.split()\n",
    "\n",
    "print (greeting1)\n",
    "\n",
    "print (\"This is John Callahan\")"
   ]
  },
  {
   "cell_type": "markdown",
   "metadata": {},
   "source": [
    "**Exercise 20 Functions**\n",
    "- You are driving a little too fast, and a police officer stops you.\n",
    "- Write a function to return one of 3 possible results: \"No ticket\", \"Small ticket\", or \"Big Ticket\".\n",
    "- If your speed is 60 or less, the result is \"No Ticket\".\n",
    "- If speed is between 61 and 80 inclusive, the result is \"Small Ticket\".\n",
    "- If speed is 81 or more, the result is \"Big Ticket\".\n",
    "- Unless it is your birthday (encoded as a boolean value in the parameters of the function) -- on your birthday, your speed can be 5 higher in all cases. "
   ]
  },
  {
   "cell_type": "code",
   "execution_count": 32,
   "metadata": {},
   "outputs": [
    {
     "name": "stdout",
     "output_type": "stream",
     "text": [
      "This is John Callahan\n"
     ]
    }
   ],
   "source": [
    "#define the function call the function caught_speeding the pramater are named spee and is_birthday\n",
    "\n",
    "def caught_speeding(speed, is_birthday):\n",
    "    if is_birthday==True:\n",
    "        speed=speed-5\n",
    "    if speed<=60:\n",
    "        print ('No ticket')\n",
    "    elif speed<=80:\n",
    "        print ('Small ticket')    \n",
    "    else:\n",
    "        print ('Big ticket')\n",
    "    \n",
    "\n",
    "\n",
    "\n",
    "print (\"This is John Callahan\")\n",
    "\n"
   ]
  },
  {
   "cell_type": "code",
   "execution_count": 34,
   "metadata": {},
   "outputs": [
    {
     "name": "stdout",
     "output_type": "stream",
     "text": [
      "Small ticket\n",
      "This is John Callahan\n"
     ]
    }
   ],
   "source": [
    "#call the function with speed =81 and is_birthday is true\n",
    "\n",
    "caught_speeding(81,True)\n",
    "\n",
    "print (\"This is John Callahan\")"
   ]
  },
  {
   "cell_type": "code",
   "execution_count": 35,
   "metadata": {},
   "outputs": [
    {
     "name": "stdout",
     "output_type": "stream",
     "text": [
      "Big ticket\n",
      "This is John Callahan\n"
     ]
    }
   ],
   "source": [
    "#call the function with speed=81 and is_birthday is false\n",
    "\n",
    "caught_speeding(81,False)\n",
    "\n",
    "print (\"This is John Callahan\")"
   ]
  },
  {
   "cell_type": "code",
   "execution_count": null,
   "metadata": {},
   "outputs": [],
   "source": []
  }
 ],
 "metadata": {
  "kernelspec": {
   "display_name": "Python 3 (ipykernel)",
   "language": "python",
   "name": "python3"
  },
  "language_info": {
   "codemirror_mode": {
    "name": "ipython",
    "version": 3
   },
   "file_extension": ".py",
   "mimetype": "text/x-python",
   "name": "python",
   "nbconvert_exporter": "python",
   "pygments_lexer": "ipython3",
   "version": "3.11.5"
  }
 },
 "nbformat": 4,
 "nbformat_minor": 1
}
